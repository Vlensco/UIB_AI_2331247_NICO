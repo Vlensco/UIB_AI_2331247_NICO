{
 "cells": [
  {
   "cell_type": "code",
   "execution_count": 1,
   "id": "6bde3537-54b9-481b-b88c-ae39d2c9a444",
   "metadata": {},
   "outputs": [
    {
     "name": "stdout",
     "output_type": "stream",
     "text": [
      "numpy: OK, version = 2.2.6\n",
      "pandas: OK, version = 2.3.2\n",
      "sklearn: OK, version = 1.7.2\n",
      "skfuzzy: OK, version = 0.5.0\n",
      "cv2: OK, version = 4.12.0\n",
      "matplotlib: OK, version = 3.10.6\n",
      "nltk: OK, version = 3.9.1\n",
      "Python: 3.13.7 | packaged by Anaconda, Inc. | (main, Sep  9 2025, 19:54:37) [MSC v.1929 64 bit (AMD64)]\n"
     ]
    }
   ],
   "source": [
    "# verify_installation.py\n",
    "import sys\n",
    "import importlib\n",
    "packages = [\"numpy\",\"pandas\",\"sklearn\",\"skfuzzy\",\"cv2\",\"matplotlib\",\"nltk\"]\n",
    "for pkg in packages:\n",
    "    try:\n",
    "        m = importlib.import_module(pkg)\n",
    "        print(f\"{pkg}: OK, version = {getattr(m, '__version__', 'unknown')}\")\n",
    "    except Exception as e:\n",
    "        print(f\"{pkg}: ERROR → {e}\")\n",
    "\n",
    "print(\"Python:\", sys.version)\n"
   ]
  },
  {
   "cell_type": "code",
   "execution_count": 2,
   "id": "6b354a50-b97f-4507-a6a3-c460ab6703b0",
   "metadata": {},
   "outputs": [
    {
     "name": "stdout",
     "output_type": "stream",
     "text": [
      "Python: 3.13.7 | packaged by Anaconda, Inc. | (main, Sep  9 2025, 19:54:37) [MSC v.1929 64 bit (AMD64)]\n",
      "numpy: 2.2.6\n",
      "pandas: 2.3.2\n",
      "sklearn: 1.7.2\n",
      "skfuzzy: 0.5.0\n",
      "opencv: 4.12.0\n"
     ]
    }
   ],
   "source": [
    "import sys, numpy as np, pandas as pd, sklearn, skfuzzy, cv2\n",
    "print(\"Python:\", sys.version)\n",
    "print(\"numpy:\", np.__version__)\n",
    "print(\"pandas:\", pd.__version__)\n",
    "print(\"sklearn:\", sklearn.__version__)\n",
    "print(\"skfuzzy:\", skfuzzy.__version__)\n",
    "print(\"opencv:\", cv2.__version__)"
   ]
  }
 ],
 "metadata": {
  "kernelspec": {
   "display_name": "Python (ai_env)",
   "language": "python",
   "name": "ai_env"
  },
  "language_info": {
   "codemirror_mode": {
    "name": "ipython",
    "version": 3
   },
   "file_extension": ".py",
   "mimetype": "text/x-python",
   "name": "python",
   "nbconvert_exporter": "python",
   "pygments_lexer": "ipython3",
   "version": "3.13.7"
  }
 },
 "nbformat": 4,
 "nbformat_minor": 5
}
